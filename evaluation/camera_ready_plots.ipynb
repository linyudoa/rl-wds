{
 "cells": [
  {
   "cell_type": "code",
   "execution_count": 1,
   "metadata": {},
   "outputs": [],
   "source": [
    "import os\n",
    "import json\n",
    "import numpy as np\n",
    "import pandas as pd\n",
    "import matplotlib\n",
    "import matplotlib.pyplot as plt\n",
    "%matplotlib inline\n",
    "\n",
    "fontSize = 12\n",
    "figxsize = 6\n",
    "figysize = 4\n",
    "params = {\n",
    "    'legend.fontsize':fontSize,\n",
    "    'figure.figsize': (figxsize, figysize),\n",
    "    'axes.labelsize': fontSize,\n",
    "    'axes.titlesize': fontSize,\n",
    "    'xtick.labelsize': fontSize,\n",
    "    'ytick.labelsize': fontSize,\n",
    "    'font.family': 'sans-serif',\n",
    "    'font.sans-serif': ['Lucida Grande'],\n",
    "    'text.usetex': True\n",
    "}\n",
    "plt.rcParams.update(params)\n",
    "\n",
    "saveFig = False"
   ]
  },
  {
   "cell_type": "markdown",
   "metadata": {},
   "source": [
    "# Anytown"
   ]
  },
  {
   "cell_type": "code",
   "execution_count": 2,
   "metadata": {},
   "outputs": [],
   "source": [
    "hist_files = [\n",
    "    '../experiments/history/anytownMaster1_vld.h5',\n",
    "]\n",
    "fn_suffix = 'Anytown'"
   ]
  },
  {
   "cell_type": "code",
   "execution_count": 3,
   "metadata": {},
   "outputs": [],
   "source": [
    "opti_df = pd.read_hdf('../experiments/anytown_rnd_db.h5', 'results')\n",
    "# ----- ----- ----- ----- -----\n",
    "# TSTSPLIT\n",
    "# ----- ----- ----- ----- -----\n",
    "opti_df = opti_df.loc[:99]\n",
    "# ----- ----- ----- ----- -----\n",
    "subdfs = dict()\n",
    "for file in hist_files:\n",
    "    subdfs[file[23:-3]] = pd.read_hdf(file)\n",
    "dqn_df = pd.concat(subdfs.values(), axis=1, keys=subdfs.keys())\n",
    "idx = pd.IndexSlice"
   ]
  },
  {
   "cell_type": "code",
   "execution_count": 4,
   "metadata": {},
   "outputs": [
    {
     "name": "stdout",
     "output_type": "stream",
     "text": [
      "nm       reward    0.785173\n",
      "de       reward    0.789036\n",
      "pso      reward    0.788719\n",
      "fssrs    reward    0.784665\n",
      "oneshot  reward    0.721698\n",
      "dtype: float64\n"
     ]
    }
   ],
   "source": [
    "print(opti_df.loc[idx[:], idx[:,'reward']].mean())"
   ]
  },
  {
   "cell_type": "code",
   "execution_count": 5,
   "metadata": {},
   "outputs": [],
   "source": [
    "opti_algo = 'de'\n",
    "agent_rewards = dqn_df.loc[idx[:,:], idx[:,'lastReward']]\n",
    "opti_rewards = opti_df[opti_algo]['reward']\n",
    "length_multiplier = agent_rewards.index.get_level_values(0).nunique()\n",
    "opti_rewards_ss = pd.Series(np.tile(opti_rewards.values, 20), index=agent_rewards.index)\n",
    "reward_ratio = agent_rewards.div(opti_rewards_ss, axis=0).groupby(level=0).mean()\n",
    "\n",
    "siestas = (dqn_df.loc[idx[:,:], idx[:,'nSiesta']] == 3).astype(float).groupby(level=0).mean()\n",
    "\n",
    "steps = dqn_df.loc[idx[:,:], idx[:,'nStep']].groupby(level=0).mean()"
   ]
  },
  {
   "cell_type": "markdown",
   "metadata": {},
   "source": [
    "### Last state value / reference state value@Anytown"
   ]
  },
  {
   "cell_type": "code",
   "execution_count": 6,
   "metadata": {},
   "outputs": [
    {
     "name": "stderr",
     "output_type": "stream",
     "text": [
      "C:\\Users\\Administrator\\AppData\\Roaming\\Python\\Python37\\site-packages\\ipykernel_launcher.py:25: UserWarning: linestyle is redundantly defined by the 'linestyle' keyword argument and the fmt string \"-\" (-> linestyle='-'). The keyword argument will take precedence.\n"
     ]
    },
    {
     "data": {
      "text/plain": [
       "Text(0, 0.5, '$v_\\\\mathrm{agent}/v_\\\\mathrm{opti}$')"
      ]
     },
     "execution_count": 6,
     "metadata": {},
     "output_type": "execute_result"
    },
    {
     "data": {
      "image/png": "[encoded data removed]",
      "text/plain": [
       "<Figure size 600x400 with 1 Axes>"
      ]
     },
     "metadata": {},
     "output_type": "display_data"
    }
   ],
   "source": [
    "fig, ax = plt.subplots(figsize=(figxsize, figysize))\n",
    "#colors = ['black','dodgerblue','maroon','salmon']\n",
    "linestyles = [':', '-', '--', '-.']\n",
    "\n",
    "linestyles_for_more = [\n",
    "     (0, (1, 10)), # loosely dotted\n",
    "     (0, (1, 1)), # dotted\n",
    "     (0, (1, 1)), # densely dotted\n",
    "\n",
    "     (0, (5, 10)), # loosely dashed\n",
    "     (0, (5, 5)), # dashed\n",
    "     (0, (5, 1)), # densely dashed\n",
    "\n",
    "     (0, (3, 10, 1, 10)), # loosely dashdotted\n",
    "     (0, (3, 5, 1, 5)), # dashdotted\n",
    "     (0, (3, 1, 1, 1)), # densely dashdotted\n",
    "    \n",
    "     (0, (3, 5, 1, 5, 1, 5)), # dashdotdotted\n",
    "     (0, (3, 10, 1, 10, 1, 10)), # loosely dashdotdotted\n",
    "     (0, (3, 1, 1, 1, 1, 1)) # densely dashdotdotted\n",
    "]\n",
    "\n",
    "for header, linestyle in zip(reward_ratio.columns.values, linestyles):\n",
    "    colid = header[0]\n",
    "    ax.plot(reward_ratio[colid], '-', alpha=.2, color='black', linestyle=linestyle)\n",
    "    ax.plot(reward_ratio[colid].ewm(alpha=.4).mean(),\n",
    "            label='run '+colid[9:-4],\n",
    "            color='black',\n",
    "            linestyle=linestyle\n",
    "           )\n",
    "plt.legend(loc='lower right', ncol=2)\n",
    "plt.grid(True)\n",
    "ax.set_xlim(0, 50000)\n",
    "ax.set_ylim(.98, 1.0)\n",
    "plt.locator_params(axis='y', nbins=5)\n",
    "ax.set_xlabel('\\# of training steps')\n",
    "ax.set_ylabel('$v_\\mathrm{agent}/v_\\mathrm{opti}$')"
   ]
  },
  {
   "cell_type": "code",
   "execution_count": 7,
   "metadata": {},
   "outputs": [],
   "source": [
    "if saveFig:\n",
    "    fig.savefig(fname='./figures/value_ratio_'+fn_suffix+'.pdf', format='pdf', bbox_inches='tight')"
   ]
  },
  {
   "cell_type": "markdown",
   "metadata": {},
   "source": [
    "### episode lengths"
   ]
  },
  {
   "cell_type": "code",
   "execution_count": 8,
   "metadata": {},
   "outputs": [
    {
     "name": "stderr",
     "output_type": "stream",
     "text": [
      "C:\\Users\\Administrator\\AppData\\Roaming\\Python\\Python37\\site-packages\\ipykernel_launcher.py:6: UserWarning: linestyle is redundantly defined by the 'linestyle' keyword argument and the fmt string \"-\" (-> linestyle='-'). The keyword argument will take precedence.\n",
      "  \n"
     ]
    },
    {
     "data": {
      "text/plain": [
       "Text(0, 0.5, 'Avg. episode length (\\\\# of steps)')"
      ]
     },
     "execution_count": 8,
     "metadata": {},
     "output_type": "execute_result"
    },
    {
     "data": {
      "image/png": "[encoded data removed]",
      "text/plain": [
       "<Figure size 600x400 with 1 Axes>"
      ]
     },
     "metadata": {},
     "output_type": "display_data"
    }
   ],
   "source": [
    "fig, ax = plt.subplots(figsize=(figxsize, figysize))#, tight_layout=True)\n",
    "#colors = ['black','dodgerblue','maroon','salmon']\n",
    "#linestyles = [':', '-', '--', '-.']\n",
    "for header, linestyle in zip(reward_ratio.columns.values, linestyles):\n",
    "    colid = header[0]\n",
    "    ax.plot(steps[colid], '-', alpha=.2, color='black', linestyle=linestyle)\n",
    "    ax.plot(steps[colid].ewm(alpha=.4).mean(),\n",
    "            #label='run '+colid[-5],\n",
    "            label='run '+colid[9:-4],\n",
    "            color='black',\n",
    "            linestyle=linestyle\n",
    "           )\n",
    "plt.legend(loc='lower right', ncol=2)\n",
    "plt.grid(True)\n",
    "ax.set_xlim(0, 50000)\n",
    "ax.set_ylim(0, 8)\n",
    "plt.locator_params(axis='y', nbins=5)\n",
    "ax.set_xlabel('\\# of training steps')\n",
    "ax.set_ylabel('Avg. episode length (\\# of steps)')"
   ]
  },
  {
   "cell_type": "code",
   "execution_count": 9,
   "metadata": {},
   "outputs": [],
   "source": [
    "if saveFig:\n",
    "    fig.savefig(fname='./figures/episode_length_'+fn_suffix+'.pdf', format='pdf', bbox_inches='tight')"
   ]
  },
  {
   "cell_type": "markdown",
   "metadata": {},
   "source": [
    "# D-Town with optimized reference"
   ]
  },
  {
   "cell_type": "code",
   "execution_count": 10,
   "metadata": {},
   "outputs": [],
   "source": [
    "hist_files = ['../experiments/history/dtownHO1_vld.h5',\n",
    "              '../experiments/history/dtownHO2_vld.h5',\n",
    "              '../experiments/history/dtownHO3_vld.h5',\n",
    "              '../experiments/history/dtownHO4_vld.h5']\n",
    "fn_suffix = 'Dtown'"
   ]
  },
  {
   "cell_type": "code",
   "execution_count": 11,
   "metadata": {},
   "outputs": [
    {
     "ename": "FileNotFoundError",
     "evalue": "File ../experiments/history/dtownHO1_vld.h5 does not exist",
     "output_type": "error",
     "traceback": [
      "\u001b[1;31m---------------------------------------------------------------------------\u001b[0m",
      "\u001b[1;31mFileNotFoundError\u001b[0m                         Traceback (most recent call last)",
      "\u001b[1;32m~\\AppData\\Local\\Temp\\ipykernel_18524\\1435471467.py\u001b[0m in \u001b[0;36m<module>\u001b[1;34m\u001b[0m\n\u001b[0;32m      8\u001b[0m \u001b[1;32mfor\u001b[0m \u001b[0mfile\u001b[0m \u001b[1;32min\u001b[0m \u001b[0mhist_files\u001b[0m\u001b[1;33m:\u001b[0m\u001b[1;33m\u001b[0m\u001b[0m\n\u001b[0;32m      9\u001b[0m     \u001b[1;31m#subdfs[file[23:-3]] = pd.read_hdf(file)\u001b[0m\u001b[1;33m\u001b[0m\u001b[1;33m\u001b[0m\u001b[0m\n\u001b[1;32m---> 10\u001b[1;33m     \u001b[0msubdfs\u001b[0m\u001b[1;33m[\u001b[0m\u001b[0mfile\u001b[0m\u001b[1;33m[\u001b[0m\u001b[1;36m28\u001b[0m\u001b[1;33m:\u001b[0m\u001b[1;36m31\u001b[0m\u001b[1;33m]\u001b[0m\u001b[1;33m]\u001b[0m \u001b[1;33m=\u001b[0m \u001b[0mpd\u001b[0m\u001b[1;33m.\u001b[0m\u001b[0mread_hdf\u001b[0m\u001b[1;33m(\u001b[0m\u001b[0mfile\u001b[0m\u001b[1;33m)\u001b[0m\u001b[1;33m\u001b[0m\u001b[0m\n\u001b[0m\u001b[0;32m     11\u001b[0m \u001b[0mdqn_df\u001b[0m \u001b[1;33m=\u001b[0m \u001b[0mpd\u001b[0m\u001b[1;33m.\u001b[0m\u001b[0mconcat\u001b[0m\u001b[1;33m(\u001b[0m\u001b[0msubdfs\u001b[0m\u001b[1;33m.\u001b[0m\u001b[0mvalues\u001b[0m\u001b[1;33m(\u001b[0m\u001b[1;33m)\u001b[0m\u001b[1;33m,\u001b[0m \u001b[0maxis\u001b[0m\u001b[1;33m=\u001b[0m\u001b[1;36m1\u001b[0m\u001b[1;33m,\u001b[0m \u001b[0mkeys\u001b[0m\u001b[1;33m=\u001b[0m\u001b[0msubdfs\u001b[0m\u001b[1;33m.\u001b[0m\u001b[0mkeys\u001b[0m\u001b[1;33m(\u001b[0m\u001b[1;33m)\u001b[0m\u001b[1;33m)\u001b[0m\u001b[1;33m\u001b[0m\u001b[0m\n\u001b[0;32m     12\u001b[0m \u001b[0midx\u001b[0m \u001b[1;33m=\u001b[0m \u001b[0mpd\u001b[0m\u001b[1;33m.\u001b[0m\u001b[0mIndexSlice\u001b[0m\u001b[1;33m\u001b[0m\u001b[0m\n",
      "\u001b[1;32mc:\\Users\\Administrator\\AppData\\Local\\Programs\\Python\\Python37\\lib\\site-packages\\pandas\\io\\pytables.py\u001b[0m in \u001b[0;36mread_hdf\u001b[1;34m(path_or_buf, key, mode, **kwargs)\u001b[0m\n\u001b[0;32m    379\u001b[0m         \u001b[1;32mif\u001b[0m \u001b[1;32mnot\u001b[0m \u001b[0mexists\u001b[0m\u001b[1;33m:\u001b[0m\u001b[1;33m\u001b[0m\u001b[0m\n\u001b[0;32m    380\u001b[0m             raise FileNotFoundError(\n\u001b[1;32m--> 381\u001b[1;33m                 \u001b[1;34m\"File {path} does not exist\"\u001b[0m\u001b[1;33m.\u001b[0m\u001b[0mformat\u001b[0m\u001b[1;33m(\u001b[0m\u001b[0mpath\u001b[0m\u001b[1;33m=\u001b[0m\u001b[0mpath_or_buf\u001b[0m\u001b[1;33m)\u001b[0m\u001b[1;33m\u001b[0m\u001b[0m\n\u001b[0m\u001b[0;32m    382\u001b[0m             )\n\u001b[0;32m    383\u001b[0m \u001b[1;33m\u001b[0m\u001b[0m\n",
      "\u001b[1;31mFileNotFoundError\u001b[0m: File ../experiments/history/dtownHO1_vld.h5 does not exist"
     ]
    }
   ],
   "source": [
    "opti_df = pd.read_hdf('../experiments/dtown_rnd_db.h5', 'results')\n",
    "# ----- ----- ----- ----- -----\n",
    "# TSTSPLIT\n",
    "# ----- ----- ----- ----- -----\n",
    "opti_df = opti_df.loc[:99]\n",
    "# ----- ----- ----- ----- -----\n",
    "subdfs = dict()\n",
    "for file in hist_files:\n",
    "    #subdfs[file[23:-3]] = pd.read_hdf(file)\n",
    "    subdfs[file[28:31]] = pd.read_hdf(file)\n",
    "dqn_df = pd.concat(subdfs.values(), axis=1, keys=subdfs.keys())\n",
    "idx = pd.IndexSlice"
   ]
  },
  {
   "cell_type": "code",
   "execution_count": null,
   "metadata": {},
   "outputs": [],
   "source": [
    "print(opti_df.loc[idx[:], idx[:,'reward']].mean())"
   ]
  },
  {
   "cell_type": "code",
   "execution_count": null,
   "metadata": {},
   "outputs": [
    {
     "ename": "ValueError",
     "evalue": "Length of passed values is 2500, index implies 2000",
     "output_type": "error",
     "traceback": [
      "\u001b[1;31m---------------------------------------------------------------------------\u001b[0m",
      "\u001b[1;31mValueError\u001b[0m                                Traceback (most recent call last)",
      "\u001b[1;32m~\\AppData\\Local\\Temp\\ipykernel_23408\\344586709.py\u001b[0m in \u001b[0;36m<module>\u001b[1;34m\u001b[0m\n\u001b[0;32m      3\u001b[0m \u001b[0mopti_rewards\u001b[0m \u001b[1;33m=\u001b[0m \u001b[0mopti_df\u001b[0m\u001b[1;33m[\u001b[0m\u001b[0mopti_algo\u001b[0m\u001b[1;33m]\u001b[0m\u001b[1;33m[\u001b[0m\u001b[1;34m'reward'\u001b[0m\u001b[1;33m]\u001b[0m\u001b[1;33m\u001b[0m\u001b[0m\n\u001b[0;32m      4\u001b[0m \u001b[0mlength_multiplier\u001b[0m \u001b[1;33m=\u001b[0m \u001b[0magent_rewards\u001b[0m\u001b[1;33m.\u001b[0m\u001b[0mindex\u001b[0m\u001b[1;33m.\u001b[0m\u001b[0mget_level_values\u001b[0m\u001b[1;33m(\u001b[0m\u001b[1;36m0\u001b[0m\u001b[1;33m)\u001b[0m\u001b[1;33m.\u001b[0m\u001b[0mnunique\u001b[0m\u001b[1;33m(\u001b[0m\u001b[1;33m)\u001b[0m\u001b[1;33m\u001b[0m\u001b[0m\n\u001b[1;32m----> 5\u001b[1;33m \u001b[0mopti_rewards_ss\u001b[0m \u001b[1;33m=\u001b[0m \u001b[0mpd\u001b[0m\u001b[1;33m.\u001b[0m\u001b[0mSeries\u001b[0m\u001b[1;33m(\u001b[0m\u001b[0mnp\u001b[0m\u001b[1;33m.\u001b[0m\u001b[0mtile\u001b[0m\u001b[1;33m(\u001b[0m\u001b[0mopti_rewards\u001b[0m\u001b[1;33m.\u001b[0m\u001b[0mvalues\u001b[0m\u001b[1;33m,\u001b[0m \u001b[0mlength_multiplier\u001b[0m\u001b[1;33m)\u001b[0m\u001b[1;33m,\u001b[0m \u001b[0mindex\u001b[0m\u001b[1;33m=\u001b[0m\u001b[0magent_rewards\u001b[0m\u001b[1;33m.\u001b[0m\u001b[0mindex\u001b[0m\u001b[1;33m)\u001b[0m\u001b[1;33m\u001b[0m\u001b[0m\n\u001b[0m\u001b[0;32m      6\u001b[0m \u001b[0mreward_ratio\u001b[0m \u001b[1;33m=\u001b[0m \u001b[0magent_rewards\u001b[0m\u001b[1;33m.\u001b[0m\u001b[0mdiv\u001b[0m\u001b[1;33m(\u001b[0m\u001b[0mopti_rewards_ss\u001b[0m\u001b[1;33m,\u001b[0m \u001b[0maxis\u001b[0m\u001b[1;33m=\u001b[0m\u001b[1;36m0\u001b[0m\u001b[1;33m)\u001b[0m\u001b[1;33m\u001b[0m\u001b[0m\n\u001b[0;32m      7\u001b[0m \u001b[0mreward_ratio\u001b[0m \u001b[1;33m=\u001b[0m \u001b[0mreward_ratio\u001b[0m\u001b[1;33m.\u001b[0m\u001b[0mreplace\u001b[0m\u001b[1;33m(\u001b[0m\u001b[1;33m[\u001b[0m\u001b[0mnp\u001b[0m\u001b[1;33m.\u001b[0m\u001b[0minf\u001b[0m\u001b[1;33m,\u001b[0m \u001b[1;33m-\u001b[0m\u001b[0mnp\u001b[0m\u001b[1;33m.\u001b[0m\u001b[0minf\u001b[0m\u001b[1;33m]\u001b[0m\u001b[1;33m,\u001b[0m \u001b[0mnp\u001b[0m\u001b[1;33m.\u001b[0m\u001b[0mnan\u001b[0m\u001b[1;33m)\u001b[0m\u001b[1;33m.\u001b[0m\u001b[0mdropna\u001b[0m\u001b[1;33m(\u001b[0m\u001b[1;33m)\u001b[0m\u001b[1;33m.\u001b[0m\u001b[0mgroupby\u001b[0m\u001b[1;33m(\u001b[0m\u001b[0mlevel\u001b[0m\u001b[1;33m=\u001b[0m\u001b[1;36m0\u001b[0m\u001b[1;33m)\u001b[0m\u001b[1;33m.\u001b[0m\u001b[0mmean\u001b[0m\u001b[1;33m(\u001b[0m\u001b[1;33m)\u001b[0m\u001b[1;33m\u001b[0m\u001b[0m\n",
      "\u001b[1;32mc:\\Users\\Administrator\\AppData\\Local\\Programs\\Python\\Python37\\lib\\site-packages\\pandas\\core\\series.py\u001b[0m in \u001b[0;36m__init__\u001b[1;34m(self, data, index, dtype, name, copy, fastpath)\u001b[0m\n\u001b[0;32m    300\u001b[0m                         raise ValueError(\n\u001b[0;32m    301\u001b[0m                             \u001b[1;34m\"Length of passed values is {val}, \"\u001b[0m\u001b[1;33m\u001b[0m\u001b[0m\n\u001b[1;32m--> 302\u001b[1;33m                             \u001b[1;34m\"index implies {ind}\"\u001b[0m\u001b[1;33m.\u001b[0m\u001b[0mformat\u001b[0m\u001b[1;33m(\u001b[0m\u001b[0mval\u001b[0m\u001b[1;33m=\u001b[0m\u001b[0mlen\u001b[0m\u001b[1;33m(\u001b[0m\u001b[0mdata\u001b[0m\u001b[1;33m)\u001b[0m\u001b[1;33m,\u001b[0m \u001b[0mind\u001b[0m\u001b[1;33m=\u001b[0m\u001b[0mlen\u001b[0m\u001b[1;33m(\u001b[0m\u001b[0mindex\u001b[0m\u001b[1;33m)\u001b[0m\u001b[1;33m)\u001b[0m\u001b[1;33m\u001b[0m\u001b[0m\n\u001b[0m\u001b[0;32m    303\u001b[0m                         )\n\u001b[0;32m    304\u001b[0m                 \u001b[1;32mexcept\u001b[0m \u001b[0mTypeError\u001b[0m\u001b[1;33m:\u001b[0m\u001b[1;33m\u001b[0m\u001b[0m\n",
      "\u001b[1;31mValueError\u001b[0m: Length of passed values is 2500, index implies 2000"
     ]
    }
   ],
   "source": [
    "opti_algo = 'de'\n",
    "agent_rewards = dqn_df.loc[idx[:,:], idx[:,'lastReward']]\n",
    "opti_rewards = opti_df[opti_algo]['reward']\n",
    "length_multiplier = agent_rewards.index.get_level_values(0).nunique()\n",
    "opti_rewards_ss = pd.Series(np.tile(opti_rewards.values, length_multiplier), index=agent_rewards.index)\n",
    "reward_ratio = agent_rewards.div(opti_rewards_ss, axis=0)\n",
    "reward_ratio = reward_ratio.replace([np.inf, -np.inf], np.nan).dropna().groupby(level=0).mean()\n",
    "\n",
    "siestas = (dqn_df.loc[idx[:,:], idx[:,'nSiesta']] == 3).astype(float).groupby(level=0).mean()\n",
    "\n",
    "steps = dqn_df.loc[idx[:,:], idx[:,'nStep']].groupby(level=0).mean()"
   ]
  },
  {
   "cell_type": "markdown",
   "metadata": {},
   "source": [
    "### Last state value / reference state value@D-Town"
   ]
  },
  {
   "cell_type": "code",
   "execution_count": null,
   "metadata": {},
   "outputs": [],
   "source": [
    "fig, ax = plt.subplots(figsize=(figxsize, figysize))\n",
    "colors = ['black','dodgerblue','maroon','salmon']\n",
    "linestyles = [':', '-', '--', '-.']\n",
    "for header, linestyle in zip(reward_ratio.columns.values, linestyles):\n",
    "    colid = header[0]\n",
    "    ax.plot(reward_ratio[colid], '-', alpha=.2, color='black', linestyle=linestyle)\n",
    "    ax.plot(reward_ratio[colid].ewm(alpha=.4).mean(),\n",
    "            label='run '+colid[-1],\n",
    "            color='black',\n",
    "            linestyle=linestyle\n",
    "           )\n",
    "plt.legend(loc='lower right', ncol=2)\n",
    "plt.grid(True)\n",
    "ax.set_xlim(0, 1000000)\n",
    "ax.set_ylim(0.95, 1.0)\n",
    "ax.set_xlabel('\\# of training steps')\n",
    "ax.set_ylabel('$v_\\mathrm{agent}/v_\\mathrm{opti}$')\n",
    "ax.xaxis.set_ticks(np.arange(0, 1000001, 200000))"
   ]
  },
  {
   "cell_type": "code",
   "execution_count": null,
   "metadata": {},
   "outputs": [],
   "source": [
    "if saveFig:\n",
    "    fig.savefig(fname='./figures/value_ratio_'+fn_suffix+'.pdf', format='pdf', bbox_inches='tight')"
   ]
  },
  {
   "cell_type": "markdown",
   "metadata": {},
   "source": [
    "### episode lengths"
   ]
  },
  {
   "cell_type": "code",
   "execution_count": null,
   "metadata": {},
   "outputs": [],
   "source": [
    "fig, ax = plt.subplots(figsize=(figxsize, figysize))#, tight_layout=True)\n",
    "#colors = ['black','dodgerblue','maroon','salmon']\n",
    "linestyles = [':', '-', '--', '-.']\n",
    "for header, linestyle in zip(reward_ratio.columns.values, linestyles):\n",
    "    colid = header[0]\n",
    "    ax.plot(steps[colid], '-', alpha=.2, color='black', linestyle=linestyle)\n",
    "    ax.plot(steps[colid].ewm(alpha=.4).mean(),\n",
    "            label='run '+colid[-1],\n",
    "            color='black',\n",
    "            linestyle=linestyle\n",
    "            )\n",
    "plt.legend(loc='upper right', ncol=2)\n",
    "plt.grid(True)\n",
    "ax.set_xlim(0, 1000000)\n",
    "ax.set_ylim(0, 203)\n",
    "ax.set_xlabel('\\# of training steps')\n",
    "ax.set_ylabel('Avg. episode length (\\# of steps)')\n",
    "ax.xaxis.set_ticks(np.arange(0, 1000001, 200000))"
   ]
  },
  {
   "cell_type": "code",
   "execution_count": null,
   "metadata": {},
   "outputs": [],
   "source": [
    "if saveFig:\n",
    "    fig.savefig(fname='./figures/episode_length_'+fn_suffix+'.pdf', format='pdf', bbox_inches='tight')"
   ]
  },
  {
   "cell_type": "markdown",
   "metadata": {},
   "source": [
    "# D-Town with one-shot reference"
   ]
  },
  {
   "cell_type": "code",
   "execution_count": null,
   "metadata": {},
   "outputs": [],
   "source": [
    "hist_files = ['../experiments/history/dtownOS1_vld.h5',\n",
    "              '../experiments/history/dtownOS2_vld.h5',\n",
    "              '../experiments/history/dtownOS3_vld.h5',\n",
    "              '../experiments/history/dtownOS4_vld.h5']\n",
    "fn_suffix = 'DtownOS'"
   ]
  },
  {
   "cell_type": "code",
   "execution_count": null,
   "metadata": {},
   "outputs": [],
   "source": [
    "opti_df = pd.read_hdf('../experiments/dtown_rnd_db.h5', 'results')\n",
    "# ----- ----- ----- ----- -----\n",
    "# TSTSPLIT\n",
    "# ----- ----- ----- ----- -----\n",
    "opti_df = opti_df.loc[:99]\n",
    "# ----- ----- ----- ----- -----\n",
    "subdfs = dict()\n",
    "for file in hist_files:\n",
    "    #subdfs[file[23:-3]] = pd.read_hdf(file)\n",
    "    subdfs[file[30:-7]] = pd.read_hdf(file)\n",
    "dqn_df = pd.concat(subdfs.values(), axis=1, keys=subdfs.keys())\n",
    "idx = pd.IndexSlice"
   ]
  },
  {
   "cell_type": "code",
   "execution_count": null,
   "metadata": {},
   "outputs": [],
   "source": [
    "print(opti_df.loc[idx[:], idx[:,'reward']].mean())"
   ]
  },
  {
   "cell_type": "code",
   "execution_count": null,
   "metadata": {},
   "outputs": [],
   "source": [
    "opti_algo = 'oneshot'\n",
    "agent_rewards = dqn_df.loc[idx[:,:], idx[:,'lastReward']]\n",
    "opti_rewards = opti_df[opti_algo]['reward']\n",
    "length_multiplier = agent_rewards.index.get_level_values(0).nunique()\n",
    "opti_rewards_ss = pd.Series(np.tile(opti_rewards.values, length_multiplier), index=agent_rewards.index)\n",
    "reward_ratio = agent_rewards.div(opti_rewards_ss, axis=0)\n",
    "reward_ratio = reward_ratio.replace([np.inf, -np.inf], np.nan).dropna().groupby(level=0).mean()\n",
    "\n",
    "siestas = (dqn_df.loc[idx[:,:], idx[:,'nSiesta']] == 3).astype(float).groupby(level=0).mean()\n",
    "\n",
    "steps = dqn_df.loc[idx[:,:], idx[:,'nStep']].groupby(level=0).mean()"
   ]
  },
  {
   "cell_type": "markdown",
   "metadata": {},
   "source": [
    "### Last state value / reference state value@D-Town"
   ]
  },
  {
   "cell_type": "code",
   "execution_count": null,
   "metadata": {},
   "outputs": [],
   "source": [
    "fig, ax = plt.subplots(figsize=(figxsize, figysize))\n",
    "#colors = ['black','dodgerblue','maroon','salmon']\n",
    "linestyles = [':', '-', '--', '-.']\n",
    "for header, linestyle in zip(reward_ratio.columns.values, linestyles):\n",
    "    colid = header[0]\n",
    "    ax.plot(reward_ratio[colid], '-', alpha=.2, color='black', linestyle=linestyle)\n",
    "    ax.plot(reward_ratio[colid].ewm(alpha=.4).mean(),\n",
    "            label='run '+str(int(colid[-1])),\n",
    "            color='black',\n",
    "            linestyle=linestyle\n",
    "            )\n",
    "plt.legend(loc='lower right', ncol=2)\n",
    "plt.grid(True)\n",
    "ax.set_xlim(0, 1000000)\n",
    "ax.set_ylim(1, 1.05)\n",
    "ax.set_xlabel('\\# of training steps')\n",
    "#ax.set_ylabel('$v_\\mathrm{agent}/v_\\mathrm{opti}$, -')\n",
    "ax.set_ylabel('$v_\\mathrm{agent}/v_\\mathrm{opti}$')\n",
    "ax.xaxis.set_ticks(np.arange(0, 1000001, 200000))"
   ]
  },
  {
   "cell_type": "code",
   "execution_count": null,
   "metadata": {},
   "outputs": [],
   "source": [
    "if saveFig:\n",
    "    fig.savefig(fname='./figures/value_ratio_'+fn_suffix+'.pdf', format='pdf', bbox_inches='tight')"
   ]
  },
  {
   "cell_type": "markdown",
   "metadata": {},
   "source": [
    "### episode lengths"
   ]
  },
  {
   "cell_type": "code",
   "execution_count": null,
   "metadata": {},
   "outputs": [],
   "source": [
    "fig, ax = plt.subplots(figsize=(figxsize, figysize))#, tight_layout=True)\n",
    "#colors = ['black','dodgerblue','maroon','salmon']\n",
    "linestyles = [':', '-', '--', '-.']\n",
    "for header, linestyle in zip(reward_ratio.columns.values, linestyles):\n",
    "    colid = header[0]\n",
    "    ax.plot(steps[colid], '-', alpha=.2, color='black', linestyle=linestyle)\n",
    "    ax.plot(steps[colid].ewm(alpha=.4).mean(),\n",
    "            label='run '+str(int(colid[-1])),\n",
    "            color='black',\n",
    "            linestyle=linestyle\n",
    "            )\n",
    "plt.legend(loc='upper right', ncol=2)\n",
    "plt.grid(True)\n",
    "ax.set_xlim(0, 1000000)\n",
    "ax.set_ylim(0, 105)\n",
    "ax.set_xlabel('\\# of training steps')\n",
    "ax.set_ylabel('Avg. episode length (\\# of steps)')\n",
    "ax.xaxis.set_ticks(np.arange(0, 1000001, 200000))"
   ]
  },
  {
   "cell_type": "code",
   "execution_count": null,
   "metadata": {},
   "outputs": [],
   "source": [
    "if saveFig:\n",
    "    fig.savefig(fname='./figures/episode_length_'+fn_suffix+'.pdf', format='pdf', bbox_inches='tight')"
   ]
  },
  {
   "cell_type": "markdown",
   "metadata": {},
   "source": [
    "# Training episode reward@D-Town"
   ]
  },
  {
   "cell_type": "code",
   "execution_count": null,
   "metadata": {},
   "outputs": [],
   "source": [
    "hist_files = ['../experiments/history/run-dtownHO_1-tag-episode_reward.json',\n",
    "              '../experiments/history/run-dtownHO_2-tag-episode_reward.json',\n",
    "              '../experiments/history/run-dtownHO_3-tag-episode_reward.json',\n",
    "              '../experiments/history/run-dtownHO_4-tag-episode_reward.json']\n",
    "fn_suffix = 'Dtown'"
   ]
  },
  {
   "cell_type": "code",
   "execution_count": null,
   "metadata": {},
   "outputs": [],
   "source": [
    "subdfs = dict()\n",
    "for file in hist_files:\n",
    "    with open(file) as fin:\n",
    "        data = json.load(fin)\n",
    "    print(data[-1])\n",
    "    step = []\n",
    "    reward = []\n",
    "    for elem in data:\n",
    "        step.append(elem[1])\n",
    "        reward.append(elem[2])\n",
    "    subdfs['run '+file[35]] = pd.DataFrame({'step': step, 'reward':reward})\n",
    "df = pd.concat(subdfs.values(), axis=1, keys=subdfs.keys())"
   ]
  },
  {
   "cell_type": "code",
   "execution_count": null,
   "metadata": {},
   "outputs": [],
   "source": [
    "with open(hist_files[0]) as fin:\n",
    "    data = json.load(fin)\n",
    "print(data[-1])"
   ]
  },
  {
   "cell_type": "code",
   "execution_count": null,
   "metadata": {},
   "outputs": [],
   "source": [
    "fig, ax = plt.subplots(figsize=(figxsize, figysize))\n",
    "#colors = ['black','dodgerblue','maroon','salmon']\n",
    "markers = ['.', '4', 'x', '|']\n",
    "linestyles = [':', '-', '--', '-.']\n",
    "plotFreq = 20\n",
    "for runid, linestyle in zip(df.columns.levels[0], linestyles):\n",
    "    plotFreq = 5\n",
    "    ax.plot(df[runid]['step'], df[runid]['reward'], alpha=.1, color='black', label='', linewidth=.3, linestyle=linestyle)\n",
    "    ax.plot(df[runid]['step'][:200:plotFreq], df[runid]['reward'].ewm(alpha=.1).mean()[:200:plotFreq],\n",
    "            color='black',\n",
    "            label=runid,\n",
    "            #marker=marker,\n",
    "            linestyle=linestyle\n",
    "           # linewidth=1\n",
    "           )\n",
    "    plotFreq = 20\n",
    "    ax.plot(df[runid]['step'][200::plotFreq], df[runid]['reward'].ewm(alpha=.1).mean()[200::plotFreq],\n",
    "            color='black',\n",
    "            label='',\n",
    "            #marker=marker,\n",
    "            linestyle=linestyle\n",
    "           # linewidth=1\n",
    "           )\n",
    "plt.legend()\n",
    "plt.grid(True)\n",
    "ax.set_xlim(0, 1000000)\n",
    "ax.set_ylim(-60, 40)\n",
    "ax.set_xlabel('\\# of training steps')\n",
    "ax.set_ylabel('Episode reward')\n",
    "ax.xaxis.set_ticks(np.arange(0, 1000001, 250000))"
   ]
  },
  {
   "cell_type": "code",
   "execution_count": null,
   "metadata": {},
   "outputs": [],
   "source": [
    "if saveFig:\n",
    "    fig.savefig(fname='./figures/trn_episode_reward_'+fn_suffix+'.pdf', format='pdf', bbox_inches='tight')"
   ]
  },
  {
   "cell_type": "markdown",
   "metadata": {},
   "source": [
    "# Training reward@D-Town"
   ]
  },
  {
   "cell_type": "code",
   "execution_count": null,
   "metadata": {},
   "outputs": [],
   "source": [
    "hist_files = ['../experiments/history/run-dtownHO_1-tag-input_info_rewards.json',\n",
    "              '../experiments/history/run-dtownHO_2-tag-input_info_rewards.json',\n",
    "              '../experiments/history/run-dtownHO_3-tag-input_info_rewards.json',\n",
    "              '../experiments/history/run-dtownHO_4-tag-input_info_rewards.json']\n",
    "fn_suffix = 'Dtown'"
   ]
  },
  {
   "cell_type": "code",
   "execution_count": null,
   "metadata": {},
   "outputs": [],
   "source": [
    "subdfs = dict()\n",
    "for file in hist_files:\n",
    "    with open(file) as fin:\n",
    "        data = json.load(fin)\n",
    "    step = []\n",
    "    reward = []\n",
    "    for elem in data:\n",
    "        step.append(elem[1])\n",
    "        reward.append(elem[2])\n",
    "    subdfs['run '+file[35]] = pd.DataFrame({'step': step, 'reward':reward})\n",
    "df = pd.concat(subdfs.values(), axis=1, keys=subdfs.keys())"
   ]
  },
  {
   "cell_type": "code",
   "execution_count": null,
   "metadata": {},
   "outputs": [],
   "source": [
    "fig, ax = plt.subplots(figsize=(figxsize, figysize))\n",
    "colors = ['black','dodgerblue','maroon','salmon']\n",
    "color = 'black'\n",
    "markers = ['.', '4', 'x', '|']\n",
    "linestyles = [':', '-', '--', '-.']\n",
    "plotFreq = 10\n",
    "for runid, linestyle in zip(df.columns.levels[0], linestyles):\n",
    "    ax.plot(df[runid]['step'], df[runid]['reward'], alpha=.1, color='black', label='', linewidth=.3, linestyle=linestyle)\n",
    "    ax.plot(df[runid]['step'][::plotFreq], df[runid]['reward'].ewm(alpha=.1).mean()[::plotFreq],\n",
    "            color='black',\n",
    "            label=runid,\n",
    "            linestyle=linestyle)\n",
    "            #marker=marker,\n",
    "            #linewidth=.25)\n",
    "plt.legend(loc='upper left', ncol=2)\n",
    "plt.grid(True)\n",
    "ax.set_xlim(0, 1000000)\n",
    "ax.set_ylim(-0.5, 1.0)\n",
    "ax.set_xlabel('\\# of training steps')\n",
    "ax.set_ylabel('Reward')\n",
    "ax.xaxis.set_ticks(np.arange(0, 1000001, 250000))"
   ]
  },
  {
   "cell_type": "code",
   "execution_count": null,
   "metadata": {},
   "outputs": [],
   "source": [
    "if saveFig:\n",
    "    fig.savefig(fname='./figures/trn_reward_'+fn_suffix+'.pdf', format='pdf', bbox_inches='tight')"
   ]
  },
  {
   "cell_type": "markdown",
   "metadata": {},
   "source": [
    "# Optimization results"
   ]
  },
  {
   "cell_type": "code",
   "execution_count": null,
   "metadata": {},
   "outputs": [],
   "source": [
    "import seaborn as sns"
   ]
  },
  {
   "cell_type": "code",
   "execution_count": null,
   "metadata": {},
   "outputs": [],
   "source": [
    "rewdf = opti_df.loc[idx[:], idx[:,\"reward\"]]\n",
    "rewdf.columns = rewdf.columns.droplevel(1)\n",
    "rewdf = rewdf.rename(columns={\n",
    "    'pso': 'PSO',\n",
    "    'oneshot': 'One-shot RT',\n",
    "    'fssrs': 'FSSRS',\n",
    "    'nm': 'Nelder-Mead',\n",
    "    'de': 'DE'})"
   ]
  },
  {
   "cell_type": "code",
   "execution_count": null,
   "metadata": {},
   "outputs": [],
   "source": [
    "fig, ax = plt.subplots(figsize=(figxsize, figysize))\n",
    "plt.grid(True)\n",
    "ax.set_ylim(.55, .75)\n",
    "ax.set_xlabel('Optimization techniques')\n",
    "ax.set_ylabel('Value of state')\n",
    "rewdf = rewdf.replace(0.0, np.nan).dropna()\n",
    "sns.swarmplot(data=rewdf, size=3, ax=ax, linewidth=0, alpha=.4, color='black')\n",
    "sns.boxplot(data=rewdf, ax=ax, boxprops={'alpha':1}, color='grey')\n",
    "plt.locator_params(axis='y', nbins=5)"
   ]
  },
  {
   "cell_type": "code",
   "execution_count": null,
   "metadata": {},
   "outputs": [],
   "source": [
    "if saveFig:\n",
    "    fig.savefig(fname='./figures/opti_values.pdf', format='pdf', bbox_inches='tight')"
   ]
  },
  {
   "cell_type": "code",
   "execution_count": null,
   "metadata": {},
   "outputs": [],
   "source": [
    "reldf = rewdf.div(rewdf['DE'], axis=0)"
   ]
  },
  {
   "cell_type": "code",
   "execution_count": null,
   "metadata": {},
   "outputs": [],
   "source": [
    "fig, ax = plt.subplots(figsize=(figxsize, figysize))\n",
    "plt.grid(True)\n",
    "ax.set_ylim(.85, 1.05)\n",
    "ax.set_xlabel('Optimization techniques')\n",
    "ax.set_ylabel('Relative value of state compared to DE')\n",
    "reldf = reldf.replace(0.0, np.nan).dropna()\n",
    "sns.swarmplot(data=reldf.drop('DE', axis=1), size=3, ax=ax, linewidth=0, alpha=.4, color='black')\n",
    "sns.boxplot(data=reldf.drop('DE', axis=1), ax=ax, boxprops={'alpha':1}, color='grey')\n",
    "plt.locator_params(axis='y', nbins=5)"
   ]
  },
  {
   "cell_type": "code",
   "execution_count": null,
   "metadata": {},
   "outputs": [],
   "source": [
    "if saveFig:\n",
    "    fig.savefig(fname='./figures/rel_opti_values.pdf', format='pdf', bbox_inches='tight')"
   ]
  },
  {
   "cell_type": "markdown",
   "metadata": {},
   "source": [
    "# Probability density functions"
   ]
  },
  {
   "cell_type": "code",
   "execution_count": null,
   "metadata": {},
   "outputs": [],
   "source": [
    "import scipy.stats as stats\n",
    "\n",
    "x_vals = np.linspace(0, 1.4, 1001)\n",
    "\n",
    "uni_lo = .3\n",
    "uni_hi = 1.1\n",
    "norm_lo = .7\n",
    "norm_hi = 1.3\n",
    "norm_mean = 1.0\n",
    "norm_std = 1.0\n",
    "\n",
    "uniform_dist = stats.uniform(loc=uni_lo, scale=(uni_hi-uni_lo))\n",
    "normal_dist = stats.truncnorm((norm_lo-norm_mean)/norm_std, (norm_hi-norm_mean)/norm_std, loc=norm_mean, scale=norm_std)"
   ]
  },
  {
   "cell_type": "code",
   "execution_count": null,
   "metadata": {},
   "outputs": [],
   "source": [
    "fig, ax = plt.subplots(figsize=(5, 4))\n",
    "plt.grid(True)\n",
    "ax.plot(x_vals, normal_dist.pdf(x_vals), 'k--', label='relative demand multiplier')\n",
    "ax.plot(x_vals, uniform_dist.pdf(x_vals), 'k-', label='total demand multiplier')\n",
    "ax.set_ylim(0, 1.4)\n",
    "ax.set_ylim(0, 1.75)\n",
    "ax.set_xlabel('x')\n",
    "ax.set_ylabel('probability density of x')\n",
    "plt.legend()"
   ]
  },
  {
   "cell_type": "code",
   "execution_count": null,
   "metadata": {},
   "outputs": [],
   "source": [
    "if saveFig:\n",
    "    fig.savefig(fname='./figures/proba_densities.pdf', format='pdf', bbox_inches='tight')"
   ]
  }
 ],
 "metadata": {
  "kernelspec": {
   "display_name": "Python 3.7.0 64-bit",
   "language": "python",
   "name": "python3"
  },
  "language_info": {
   "codemirror_mode": {
    "name": "ipython",
    "version": 3
   },
   "file_extension": ".py",
   "mimetype": "text/x-python",
   "name": "python",
   "nbconvert_exporter": "python",
   "pygments_lexer": "ipython3",
   "version": "3.7.0"
  },
  "vscode": {
   "interpreter": {
    "hash": "f6c3fe0f35ac205adeee3d33d4d27f45ea8735944f6bcc7cc4d72c9672a115a8"
   }
  }
 },
 "nbformat": 4,
 "nbformat_minor": 2
}
